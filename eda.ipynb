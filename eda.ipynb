{
 "cells": [
  {
   "cell_type": "code",
   "execution_count": 1,
   "metadata": {},
   "outputs": [],
   "source": [
    "import os\n",
    "import pandas as pd\n",
    "import numpy as np\n",
    "import settings\n",
    "pd.set_option('display.max_colwidth', -1)\n",
    "import json"
   ]
  },
  {
   "cell_type": "code",
   "execution_count": 2,
   "metadata": {},
   "outputs": [],
   "source": [
    "df = pd.read_csv(os.path.join(settings.DATA_DIR, 'train.csv'))"
   ]
  },
  {
   "cell_type": "code",
   "execution_count": 3,
   "metadata": {},
   "outputs": [
    {
     "data": {
      "text/html": [
       "<div>\n",
       "<style scoped>\n",
       "    .dataframe tbody tr th:only-of-type {\n",
       "        vertical-align: middle;\n",
       "    }\n",
       "\n",
       "    .dataframe tbody tr th {\n",
       "        vertical-align: top;\n",
       "    }\n",
       "\n",
       "    .dataframe thead th {\n",
       "        text-align: right;\n",
       "    }\n",
       "</style>\n",
       "<table border=\"1\" class=\"dataframe\">\n",
       "  <thead>\n",
       "    <tr style=\"text-align: right;\">\n",
       "      <th></th>\n",
       "      <th>comment_text</th>\n",
       "      <th>target</th>\n",
       "    </tr>\n",
       "  </thead>\n",
       "  <tbody>\n",
       "    <tr>\n",
       "      <th>9151</th>\n",
       "      <td>The problem with social justice warriors is that they have been conditioned to see everything as some type for slight.</td>\n",
       "      <td>0.0</td>\n",
       "    </tr>\n",
       "    <tr>\n",
       "      <th>1001484</th>\n",
       "      <td>Except he literally bowed to the dictator(king) of a Muslim country last week. The same one IIRC that he lambasted Obama for bowing to under similar circumstances. \\n\\nNo, we are not gaining respect, fear perhaps, but not respect.</td>\n",
       "      <td>0.0</td>\n",
       "    </tr>\n",
       "    <tr>\n",
       "      <th>1035563</th>\n",
       "      <td>No, they are the smart ones who pay no attention to the media.</td>\n",
       "      <td>0.0</td>\n",
       "    </tr>\n",
       "    <tr>\n",
       "      <th>1631673</th>\n",
       "      <td>that is called textbook projection. now go look the big word up. and CMD is my initials, Christopher Michael Dunn, as once again you go public to let us all know you're not only uneducated, but you're profoundly ignorant on any given issue you post on. It's why you run like an intellectually bankrupt coward from the simple question I asked you, you can't answer, as that would require intelligence.</td>\n",
       "      <td>0.5</td>\n",
       "    </tr>\n",
       "    <tr>\n",
       "      <th>1387831</th>\n",
       "      <td>A couple of thoughts on this. 1. While it may seem that Gov. Ige has not been doing much to firm up a base, I will tell you that his actions in regard to letting AG Chin run the whole immigration/refugee ban fight and the Governor's firm decision to not allow LNG to be the bridge fuel for Hawaii, but to go all renewable and double down on becoming 100% renewable is very telling as to whom he is trying to court for cash. That is progressive liberal organizations that not only support but promote such political philosophies. \\n2. A more telling sign as to whom could win the Governors race next year is whichever candidate comes up with a cohesive, realistic vision of what Hawaii should be going into the future. Jack Burns did this in 1970 in defeating Gill in the Democratic Primary. Whomever comes up with the \"To Catch A Wave\" type promotion is the one that will be in the catbird seat moving forward.</td>\n",
       "      <td>0.0</td>\n",
       "    </tr>\n",
       "    <tr>\n",
       "      <th>70164</th>\n",
       "      <td>The new-found levels of overnight solidarity between the base, Tea Party, and wave Republicans around Trump has been staggering, which includes Sanders voters.  This, coupled with the Romney/#nevertrump momentum fizzling out is perhaps much of why Trump is now tied/ahead of Billary in the polls.  I wish Trump well in defeating the pantsuit-wearing sociopath.</td>\n",
       "      <td>0.0</td>\n",
       "    </tr>\n",
       "    <tr>\n",
       "      <th>23403</th>\n",
       "      <td>...or how about New York, jimb?</td>\n",
       "      <td>0.0</td>\n",
       "    </tr>\n",
       "    <tr>\n",
       "      <th>717606</th>\n",
       "      <td>And what every you do, 907, do not investigate the negative dollar value from the pollution of naturally leaking coal seam bed methane; gas that is naturally leaking into Alaskan waters and into the atmosphere. OMG, it seems like it is almost everywhere in this State!  By the way, please tell us about your environmental footprint.  Sometimes talking about it instead of pointing fingers at others might make you less hypocritical and a more rounded person.</td>\n",
       "      <td>0.2</td>\n",
       "    </tr>\n",
       "    <tr>\n",
       "      <th>294267</th>\n",
       "      <td>I gave you a thumbs-up because I mostly agree with you, except that I believe that in a way we do deserve what we get. Sadly, decisions like this are being made without taking our kids and grand kids into consideration. Going from bad to worse.</td>\n",
       "      <td>0.0</td>\n",
       "    </tr>\n",
       "    <tr>\n",
       "      <th>510878</th>\n",
       "      <td>Even if someone else is paying him...</td>\n",
       "      <td>0.0</td>\n",
       "    </tr>\n",
       "  </tbody>\n",
       "</table>\n",
       "</div>"
      ],
      "text/plain": [
       "                                                                                                                                                                                                                                                                                                                                                                                                                                                                                                                                                                                                                                                                                                                                                                                                                                                                                                                                           comment_text  \\\n",
       "9151     The problem with social justice warriors is that they have been conditioned to see everything as some type for slight.                                                                                                                                                                                                                                                                                                                                                                                                                                                                                                                                                                                                                                                                                                                                                                                                                           \n",
       "1001484  Except he literally bowed to the dictator(king) of a Muslim country last week. The same one IIRC that he lambasted Obama for bowing to under similar circumstances. \\n\\nNo, we are not gaining respect, fear perhaps, but not respect.                                                                                                                                                                                                                                                                                                                                                                                                                                                                                                                                                                                                                                                                                                           \n",
       "1035563  No, they are the smart ones who pay no attention to the media.                                                                                                                                                                                                                                                                                                                                                                                                                                                                                                                                                                                                                                                                                                                                                                                                                                                                                   \n",
       "1631673  that is called textbook projection. now go look the big word up. and CMD is my initials, Christopher Michael Dunn, as once again you go public to let us all know you're not only uneducated, but you're profoundly ignorant on any given issue you post on. It's why you run like an intellectually bankrupt coward from the simple question I asked you, you can't answer, as that would require intelligence.                                                                                                                                                                                                                                                                                                                                                                                                                                                                                                                                 \n",
       "1387831  A couple of thoughts on this. 1. While it may seem that Gov. Ige has not been doing much to firm up a base, I will tell you that his actions in regard to letting AG Chin run the whole immigration/refugee ban fight and the Governor's firm decision to not allow LNG to be the bridge fuel for Hawaii, but to go all renewable and double down on becoming 100% renewable is very telling as to whom he is trying to court for cash. That is progressive liberal organizations that not only support but promote such political philosophies. \\n2. A more telling sign as to whom could win the Governors race next year is whichever candidate comes up with a cohesive, realistic vision of what Hawaii should be going into the future. Jack Burns did this in 1970 in defeating Gill in the Democratic Primary. Whomever comes up with the \"To Catch A Wave\" type promotion is the one that will be in the catbird seat moving forward.   \n",
       "70164    The new-found levels of overnight solidarity between the base, Tea Party, and wave Republicans around Trump has been staggering, which includes Sanders voters.  This, coupled with the Romney/#nevertrump momentum fizzling out is perhaps much of why Trump is now tied/ahead of Billary in the polls.  I wish Trump well in defeating the pantsuit-wearing sociopath.                                                                                                                                                                                                                                                                                                                                                                                                                                                                                                                                                                         \n",
       "23403    ...or how about New York, jimb?                                                                                                                                                                                                                                                                                                                                                                                                                                                                                                                                                                                                                                                                                                                                                                                                                                                                                                                  \n",
       "717606   And what every you do, 907, do not investigate the negative dollar value from the pollution of naturally leaking coal seam bed methane; gas that is naturally leaking into Alaskan waters and into the atmosphere. OMG, it seems like it is almost everywhere in this State!  By the way, please tell us about your environmental footprint.  Sometimes talking about it instead of pointing fingers at others might make you less hypocritical and a more rounded person.                                                                                                                                                                                                                                                                                                                                                                                                                                                                       \n",
       "294267   I gave you a thumbs-up because I mostly agree with you, except that I believe that in a way we do deserve what we get. Sadly, decisions like this are being made without taking our kids and grand kids into consideration. Going from bad to worse.                                                                                                                                                                                                                                                                                                                                                                                                                                                                                                                                                                                                                                                                                             \n",
       "510878   Even if someone else is paying him...                                                                                                                                                                                                                                                                                                                                                                                                                                                                                                                                                                                                                                                                                                                                                                                                                                                                                                            \n",
       "\n",
       "         target  \n",
       "9151     0.0     \n",
       "1001484  0.0     \n",
       "1035563  0.0     \n",
       "1631673  0.5     \n",
       "1387831  0.0     \n",
       "70164    0.0     \n",
       "23403    0.0     \n",
       "717606   0.2     \n",
       "294267   0.0     \n",
       "510878   0.0     "
      ]
     },
     "execution_count": 3,
     "metadata": {},
     "output_type": "execute_result"
    }
   ],
   "source": [
    "df[['comment_text', 'target']].sample(10)"
   ]
  },
  {
   "cell_type": "code",
   "execution_count": 5,
   "metadata": {},
   "outputs": [
    {
     "data": {
      "text/plain": [
       "approved    1684758\n",
       "rejected    120116 \n",
       "Name: rating, dtype: int64"
      ]
     },
     "execution_count": 5,
     "metadata": {},
     "output_type": "execute_result"
    }
   ],
   "source": [
    "df.rating.value_counts()"
   ]
  },
  {
   "cell_type": "code",
   "execution_count": 8,
   "metadata": {},
   "outputs": [],
   "source": [
    "df['disagree_level'] = df.apply(lambda r: r['disagree'] > r['likes'], axis=1).astype(np.int)"
   ]
  },
  {
   "cell_type": "code",
   "execution_count": 9,
   "metadata": {},
   "outputs": [
    {
     "data": {
      "text/plain": [
       "0    1656124\n",
       "1    148750 \n",
       "Name: disagree_level, dtype: int64"
      ]
     },
     "execution_count": 9,
     "metadata": {},
     "output_type": "execute_result"
    }
   ],
   "source": [
    "df.disagree_level.value_counts()"
   ]
  },
  {
   "cell_type": "code",
   "execution_count": 10,
   "metadata": {},
   "outputs": [],
   "source": [
    "from sklearn.preprocessing import LabelEncoder"
   ]
  },
  {
   "cell_type": "code",
   "execution_count": 11,
   "metadata": {},
   "outputs": [],
   "source": [
    "df['rating'] = LabelEncoder().fit_transform(df['rating'])"
   ]
  },
  {
   "cell_type": "code",
   "execution_count": 12,
   "metadata": {},
   "outputs": [
    {
     "data": {
      "text/plain": [
       "0    1684758\n",
       "1    120116 \n",
       "Name: rating, dtype: int64"
      ]
     },
     "execution_count": 12,
     "metadata": {},
     "output_type": "execute_result"
    }
   ],
   "source": [
    "df.rating.value_counts()"
   ]
  },
  {
   "cell_type": "code",
   "execution_count": 4,
   "metadata": {},
   "outputs": [
    {
     "data": {
      "text/html": [
       "<div>\n",
       "<style scoped>\n",
       "    .dataframe tbody tr th:only-of-type {\n",
       "        vertical-align: middle;\n",
       "    }\n",
       "\n",
       "    .dataframe tbody tr th {\n",
       "        vertical-align: top;\n",
       "    }\n",
       "\n",
       "    .dataframe thead th {\n",
       "        text-align: right;\n",
       "    }\n",
       "</style>\n",
       "<table border=\"1\" class=\"dataframe\">\n",
       "  <thead>\n",
       "    <tr style=\"text-align: right;\">\n",
       "      <th></th>\n",
       "      <th>target</th>\n",
       "      <th>severe_toxicity</th>\n",
       "      <th>obscene</th>\n",
       "      <th>identity_attack</th>\n",
       "      <th>insult</th>\n",
       "      <th>threat</th>\n",
       "    </tr>\n",
       "  </thead>\n",
       "  <tbody>\n",
       "    <tr>\n",
       "      <th>1678328</th>\n",
       "      <td>0.000000</td>\n",
       "      <td>0.0</td>\n",
       "      <td>0.0</td>\n",
       "      <td>0.000000</td>\n",
       "      <td>0.000000</td>\n",
       "      <td>0.0</td>\n",
       "    </tr>\n",
       "    <tr>\n",
       "      <th>1714255</th>\n",
       "      <td>0.000000</td>\n",
       "      <td>0.0</td>\n",
       "      <td>0.0</td>\n",
       "      <td>0.000000</td>\n",
       "      <td>0.000000</td>\n",
       "      <td>0.0</td>\n",
       "    </tr>\n",
       "    <tr>\n",
       "      <th>116538</th>\n",
       "      <td>0.300000</td>\n",
       "      <td>0.0</td>\n",
       "      <td>0.0</td>\n",
       "      <td>0.000000</td>\n",
       "      <td>0.300000</td>\n",
       "      <td>0.0</td>\n",
       "    </tr>\n",
       "    <tr>\n",
       "      <th>1140418</th>\n",
       "      <td>0.000000</td>\n",
       "      <td>0.0</td>\n",
       "      <td>0.0</td>\n",
       "      <td>0.000000</td>\n",
       "      <td>0.000000</td>\n",
       "      <td>0.0</td>\n",
       "    </tr>\n",
       "    <tr>\n",
       "      <th>66948</th>\n",
       "      <td>0.900000</td>\n",
       "      <td>0.1</td>\n",
       "      <td>0.1</td>\n",
       "      <td>0.000000</td>\n",
       "      <td>0.800000</td>\n",
       "      <td>0.0</td>\n",
       "    </tr>\n",
       "    <tr>\n",
       "      <th>976023</th>\n",
       "      <td>0.000000</td>\n",
       "      <td>0.0</td>\n",
       "      <td>0.0</td>\n",
       "      <td>0.000000</td>\n",
       "      <td>0.000000</td>\n",
       "      <td>0.0</td>\n",
       "    </tr>\n",
       "    <tr>\n",
       "      <th>235638</th>\n",
       "      <td>0.000000</td>\n",
       "      <td>0.0</td>\n",
       "      <td>0.0</td>\n",
       "      <td>0.000000</td>\n",
       "      <td>0.000000</td>\n",
       "      <td>0.0</td>\n",
       "    </tr>\n",
       "    <tr>\n",
       "      <th>108996</th>\n",
       "      <td>0.000000</td>\n",
       "      <td>0.0</td>\n",
       "      <td>0.0</td>\n",
       "      <td>0.000000</td>\n",
       "      <td>0.000000</td>\n",
       "      <td>0.0</td>\n",
       "    </tr>\n",
       "    <tr>\n",
       "      <th>547120</th>\n",
       "      <td>0.166667</td>\n",
       "      <td>0.0</td>\n",
       "      <td>0.0</td>\n",
       "      <td>0.166667</td>\n",
       "      <td>0.166667</td>\n",
       "      <td>0.0</td>\n",
       "    </tr>\n",
       "    <tr>\n",
       "      <th>1147907</th>\n",
       "      <td>0.000000</td>\n",
       "      <td>0.0</td>\n",
       "      <td>0.0</td>\n",
       "      <td>0.000000</td>\n",
       "      <td>0.000000</td>\n",
       "      <td>0.0</td>\n",
       "    </tr>\n",
       "  </tbody>\n",
       "</table>\n",
       "</div>"
      ],
      "text/plain": [
       "           target  severe_toxicity  obscene  identity_attack    insult  threat\n",
       "1678328  0.000000  0.0              0.0      0.000000         0.000000  0.0   \n",
       "1714255  0.000000  0.0              0.0      0.000000         0.000000  0.0   \n",
       "116538   0.300000  0.0              0.0      0.000000         0.300000  0.0   \n",
       "1140418  0.000000  0.0              0.0      0.000000         0.000000  0.0   \n",
       "66948    0.900000  0.1              0.1      0.000000         0.800000  0.0   \n",
       "976023   0.000000  0.0              0.0      0.000000         0.000000  0.0   \n",
       "235638   0.000000  0.0              0.0      0.000000         0.000000  0.0   \n",
       "108996   0.000000  0.0              0.0      0.000000         0.000000  0.0   \n",
       "547120   0.166667  0.0              0.0      0.166667         0.166667  0.0   \n",
       "1147907  0.000000  0.0              0.0      0.000000         0.000000  0.0   "
      ]
     },
     "execution_count": 4,
     "metadata": {},
     "output_type": "execute_result"
    }
   ],
   "source": [
    "AUX_COLUMNS = ['target', 'severe_toxicity', 'obscene', 'identity_attack', 'insult', 'threat']\n",
    "df[AUX_COLUMNS].sample(10)"
   ]
  },
  {
   "cell_type": "code",
   "execution_count": 9,
   "metadata": {},
   "outputs": [
    {
     "name": "stdout",
     "output_type": "stream",
     "text": [
      "106438 8 7648 7633 79887 2793\n"
     ]
    }
   ],
   "source": [
    "print(len(df[df['target']>0.5]), len(df[df['severe_toxicity']>0.5]), len(df[df['obscene']>0.5]),len(df[df['identity_attack']>0.5]),len(df[df['insult']>0.5]), len(df[df['threat']>0.5]))"
   ]
  },
  {
   "cell_type": "code",
   "execution_count": 10,
   "metadata": {},
   "outputs": [
    {
     "data": {
      "text/plain": [
       "1804874"
      ]
     },
     "execution_count": 10,
     "metadata": {},
     "output_type": "execute_result"
    }
   ],
   "source": [
    "len(df)"
   ]
  },
  {
   "cell_type": "code",
   "execution_count": 26,
   "metadata": {},
   "outputs": [
    {
     "data": {
      "text/plain": [
       "37896"
      ]
     },
     "execution_count": 26,
     "metadata": {},
     "output_type": "execute_result"
    }
   ],
   "source": [
    "len(df[df['target']==0.5])"
   ]
  },
  {
   "cell_type": "code",
   "execution_count": 15,
   "metadata": {},
   "outputs": [
    {
     "data": {
      "text/plain": [
       "78125"
      ]
     },
     "execution_count": 15,
     "metadata": {},
     "output_type": "execute_result"
    }
   ],
   "source": [
    "len(df[(df['target']>0.5) & (df['insult']>0.5)])"
   ]
  },
  {
   "cell_type": "code",
   "execution_count": 16,
   "metadata": {},
   "outputs": [
    {
     "data": {
      "text/plain": [
       "7494"
      ]
     },
     "execution_count": 16,
     "metadata": {},
     "output_type": "execute_result"
    }
   ],
   "source": [
    "len(df[(df['target']>0.5) & (df['obscene']>0.5)])"
   ]
  },
  {
   "cell_type": "code",
   "execution_count": 17,
   "metadata": {},
   "outputs": [
    {
     "data": {
      "text/plain": [
       "88410"
      ]
     },
     "execution_count": 17,
     "metadata": {},
     "output_type": "execute_result"
    }
   ],
   "source": [
    "df['text_len'] = df.comment_text.map(lambda x: len(x.split(' ')))\n",
    "len(df[df.text_len > 160])"
   ]
  },
  {
   "cell_type": "code",
   "execution_count": 27,
   "metadata": {},
   "outputs": [
    {
     "data": {
      "text/html": [
       "<div>\n",
       "<style scoped>\n",
       "    .dataframe tbody tr th:only-of-type {\n",
       "        vertical-align: middle;\n",
       "    }\n",
       "\n",
       "    .dataframe tbody tr th {\n",
       "        vertical-align: top;\n",
       "    }\n",
       "\n",
       "    .dataframe thead th {\n",
       "        text-align: right;\n",
       "    }\n",
       "</style>\n",
       "<table border=\"1\" class=\"dataframe\">\n",
       "  <thead>\n",
       "    <tr style=\"text-align: right;\">\n",
       "      <th></th>\n",
       "      <th>id</th>\n",
       "      <th>comment_text</th>\n",
       "    </tr>\n",
       "  </thead>\n",
       "  <tbody>\n",
       "    <tr>\n",
       "      <th>27652</th>\n",
       "      <td>7027652</td>\n",
       "      <td>tryanny doesn't mean what you think it means.</td>\n",
       "    </tr>\n",
       "    <tr>\n",
       "      <th>81418</th>\n",
       "      <td>7081418</td>\n",
       "      <td>Get that you live to troll, Tommy.\\n\\nNot playing your silly games over the Christmas holidays.</td>\n",
       "    </tr>\n",
       "    <tr>\n",
       "      <th>14484</th>\n",
       "      <td>7014484</td>\n",
       "      <td>Except for the Christians in the southern hemisphere....</td>\n",
       "    </tr>\n",
       "    <tr>\n",
       "      <th>7792</th>\n",
       "      <td>7007792</td>\n",
       "      <td>NO'Leary  !\\n\\nJust NO !!</td>\n",
       "    </tr>\n",
       "    <tr>\n",
       "      <th>83539</th>\n",
       "      <td>7083539</td>\n",
       "      <td>Washington Post correction:   (you can't make this stuff up and make it worse)\\n\\n\\nEDITOR'S NOTE: This story has been updated to more precisely describe White House press secretary Sean Spicer's location late Tuesday night in the minutes before he briefed reporters. Spicer huddled with his staff among bushes near television sets on the White House grounds, not \"in the bushes,\" as the story originally stated.\\n\\n\\nhttps://www.washingtonpost.com/news/post-politics/wp/2017/05/10/as-trump-fired-comey-his-staff-scrambled-to-explain-why/?utm_term=.12f7acda3700</td>\n",
       "    </tr>\n",
       "    <tr>\n",
       "      <th>41306</th>\n",
       "      <td>7041306</td>\n",
       "      <td>You my friend dream of the Utopia. We all want to live there, unfortunately it does not exist.</td>\n",
       "    </tr>\n",
       "    <tr>\n",
       "      <th>4440</th>\n",
       "      <td>7004440</td>\n",
       "      <td>Yes...they've gone crazy this year...good on ya!\\n\\nWell.  Wait until NEXT year (*rolling my eyes*)</td>\n",
       "    </tr>\n",
       "    <tr>\n",
       "      <th>45371</th>\n",
       "      <td>7045371</td>\n",
       "      <td>“Today, the Trump administration took up the cause of oppressed white people.”</td>\n",
       "    </tr>\n",
       "    <tr>\n",
       "      <th>50534</th>\n",
       "      <td>7050534</td>\n",
       "      <td>Mr. Clark has inadvertently stated the obvious...... \"Suddenly, he has to start thinking \"....\\nWas J. Trudeau \"thinking\" when he ordered the removal of our F-18's  ?  Or was he \"playing to the crowd \". \\nRussia has no intention of taking on \"the West\",  Putin may be a cruel dictator, but he's not stupid. Russia was made aware of the air-strike  at least 8 hours before.  As opposed to Canada, one hour before.   (yes, Putin was elected)\\nOnce again Trudeau has been made irrelevant, and by extension,  Canada.</td>\n",
       "    </tr>\n",
       "    <tr>\n",
       "      <th>31558</th>\n",
       "      <td>7031558</td>\n",
       "      <td>Ms Smith:  Our current health care system may be the most expensive in the industrialized world; but, at least it's also the least effective.  Gary crum</td>\n",
       "    </tr>\n",
       "  </tbody>\n",
       "</table>\n",
       "</div>"
      ],
      "text/plain": [
       "            id  \\\n",
       "27652  7027652   \n",
       "81418  7081418   \n",
       "14484  7014484   \n",
       "7792   7007792   \n",
       "83539  7083539   \n",
       "41306  7041306   \n",
       "4440   7004440   \n",
       "45371  7045371   \n",
       "50534  7050534   \n",
       "31558  7031558   \n",
       "\n",
       "                                                                                                                                                                                                                                                                                                                                                                                                                                                                                                                                                                            comment_text  \n",
       "27652  tryanny doesn't mean what you think it means.                                                                                                                                                                                                                                                                                                                                                                                                                                                                                                                                      \n",
       "81418  Get that you live to troll, Tommy.\\n\\nNot playing your silly games over the Christmas holidays.                                                                                                                                                                                                                                                                                                                                                                                                                                                                                    \n",
       "14484  Except for the Christians in the southern hemisphere....                                                                                                                                                                                                                                                                                                                                                                                                                                                                                                                           \n",
       "7792   NO'Leary  !\\n\\nJust NO !!                                                                                                                                                                                                                                                                                                                                                                                                                                                                                                                                                          \n",
       "83539  Washington Post correction:   (you can't make this stuff up and make it worse)\\n\\n\\nEDITOR'S NOTE: This story has been updated to more precisely describe White House press secretary Sean Spicer's location late Tuesday night in the minutes before he briefed reporters. Spicer huddled with his staff among bushes near television sets on the White House grounds, not \"in the bushes,\" as the story originally stated.\\n\\n\\nhttps://www.washingtonpost.com/news/post-politics/wp/2017/05/10/as-trump-fired-comey-his-staff-scrambled-to-explain-why/?utm_term=.12f7acda3700  \n",
       "41306  You my friend dream of the Utopia. We all want to live there, unfortunately it does not exist.                                                                                                                                                                                                                                                                                                                                                                                                                                                                                     \n",
       "4440   Yes...they've gone crazy this year...good on ya!\\n\\nWell.  Wait until NEXT year (*rolling my eyes*)                                                                                                                                                                                                                                                                                                                                                                                                                                                                                \n",
       "45371  “Today, the Trump administration took up the cause of oppressed white people.”                                                                                                                                                                                                                                                                                                                                                                                                                                                                                                     \n",
       "50534  Mr. Clark has inadvertently stated the obvious...... \"Suddenly, he has to start thinking \"....\\nWas J. Trudeau \"thinking\" when he ordered the removal of our F-18's  ?  Or was he \"playing to the crowd \". \\nRussia has no intention of taking on \"the West\",  Putin may be a cruel dictator, but he's not stupid. Russia was made aware of the air-strike  at least 8 hours before.  As opposed to Canada, one hour before.   (yes, Putin was elected)\\nOnce again Trudeau has been made irrelevant, and by extension,  Canada.                                                   \n",
       "31558  Ms Smith:  Our current health care system may be the most expensive in the industrialized world; but, at least it's also the least effective.  Gary crum                                                                                                                                                                                                                                                                                                                                                                                                                           "
      ]
     },
     "execution_count": 27,
     "metadata": {},
     "output_type": "execute_result"
    }
   ],
   "source": [
    "df_text = pd.read_csv(os.path.join(settings.DATA_DIR, 'test.csv'))\n",
    "df_text.sample(10)"
   ]
  },
  {
   "cell_type": "code",
   "execution_count": 24,
   "metadata": {},
   "outputs": [
    {
     "data": {
      "text/plain": [
       "62"
      ]
     },
     "execution_count": 24,
     "metadata": {},
     "output_type": "execute_result"
    }
   ],
   "source": [
    "df_text['text_len'] = df_text.comment_text.map(lambda x: len(x.split(' ')))\n",
    "len(df_text[df_text.text_len > 200])"
   ]
  },
  {
   "cell_type": "code",
   "execution_count": 38,
   "metadata": {},
   "outputs": [
    {
     "name": "stderr",
     "output_type": "stream",
     "text": [
      "INFO:pytorch_pretrained_bert.tokenization:loading vocabulary file https://s3.amazonaws.com/models.huggingface.co/bert/bert-base-uncased-vocab.txt from cache at /home/core/.pytorch_pretrained_bert/26bc1ad6c0ac742e9b52263248f6d0f00068293b33709fae12320c0e35ccfbbb.542ce4285a40d23a559526243235df47c5f75c197f04f37d1a0c124c32c9a084\n"
     ]
    },
    {
     "data": {
      "text/plain": [
       "['[CLS]',\n",
       " 'it',\n",
       " \"'\",\n",
       " 's',\n",
       " 'http',\n",
       " ':',\n",
       " '/',\n",
       " '/',\n",
       " 'www',\n",
       " '.',\n",
       " 'com',\n",
       " 'who',\n",
       " 'was',\n",
       " 'jim',\n",
       " 'henson',\n",
       " '?',\n",
       " '[SEP]',\n",
       " 'jim',\n",
       " 'henson',\n",
       " 'was',\n",
       " 'a',\n",
       " 'puppet',\n",
       " '##eer',\n",
       " '[SEP]']"
      ]
     },
     "execution_count": 38,
     "metadata": {},
     "output_type": "execute_result"
    }
   ],
   "source": [
    "import torch\n",
    "from pytorch_pretrained_bert import BertTokenizer, BertModel, BertForMaskedLM\n",
    "\n",
    "# OPTIONAL: if you want to have more information on what's happening, activate the logger as follows\n",
    "import logging\n",
    "logging.basicConfig(level=logging.INFO)\n",
    "\n",
    "# Load pre-trained model tokenizer (vocabulary)\n",
    "tokenizer = BertTokenizer.from_pretrained('bert-base-uncased')\n",
    "\n",
    "# Tokenized input\n",
    "text = \"[CLS] it's http://www.com Who was Jim Henson ? [SEP] Jim Henson was a puppeteer [SEP]\"\n",
    "tokenized_text = tokenizer.tokenize(text)\n",
    "tokenized_text"
   ]
  },
  {
   "cell_type": "code",
   "execution_count": null,
   "metadata": {},
   "outputs": [],
   "source": []
  }
 ],
 "metadata": {
  "kernelspec": {
   "display_name": "Python 3",
   "language": "python",
   "name": "python3"
  },
  "language_info": {
   "codemirror_mode": {
    "name": "ipython",
    "version": 3
   },
   "file_extension": ".py",
   "mimetype": "text/x-python",
   "name": "python",
   "nbconvert_exporter": "python",
   "pygments_lexer": "ipython3",
   "version": "3.7.3"
  }
 },
 "nbformat": 4,
 "nbformat_minor": 2
}
