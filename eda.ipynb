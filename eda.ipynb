{
 "cells": [
  {
   "cell_type": "code",
   "execution_count": 33,
   "metadata": {},
   "outputs": [],
   "source": [
    "import os\n",
    "import pandas as pd\n",
    "import numpy as np\n",
    "import settings\n",
    "pd.set_option('display.max_colwidth', -1)\n",
    "import json"
   ]
  },
  {
   "cell_type": "code",
   "execution_count": 3,
   "metadata": {},
   "outputs": [],
   "source": [
    "df = pd.read_csv(os.path.join(settings.DATA_DIR, 'train.csv'))"
   ]
  },
  {
   "cell_type": "code",
   "execution_count": 32,
   "metadata": {},
   "outputs": [
    {
     "data": {
      "text/html": [
       "<div>\n",
       "<style scoped>\n",
       "    .dataframe tbody tr th:only-of-type {\n",
       "        vertical-align: middle;\n",
       "    }\n",
       "\n",
       "    .dataframe tbody tr th {\n",
       "        vertical-align: top;\n",
       "    }\n",
       "\n",
       "    .dataframe thead th {\n",
       "        text-align: right;\n",
       "    }\n",
       "</style>\n",
       "<table border=\"1\" class=\"dataframe\">\n",
       "  <thead>\n",
       "    <tr style=\"text-align: right;\">\n",
       "      <th></th>\n",
       "      <th>comment_text</th>\n",
       "      <th>target</th>\n",
       "    </tr>\n",
       "  </thead>\n",
       "  <tbody>\n",
       "    <tr>\n",
       "      <th>1048112</th>\n",
       "      <td>Given you own inability to use punctuation or construct a coherent sentence, Prog, you should be careful responding.</td>\n",
       "      <td>0.000000</td>\n",
       "    </tr>\n",
       "    <tr>\n",
       "      <th>1221766</th>\n",
       "      <td>\"Diabetes Canada includes nonnutritive sweeteners in its guidelines, citing Health Canada’s acceptable daily intake values. (The organization has received funding from companies that use nonnutritive sweeteners, though it says no company or representative has any influence in the development of its recommendations.)\"\\n\\nI cannot accept that Diabetes Canada would bite the hand that feeds it, regardless to their claims to the contrary. Are we to not follow the money now?</td>\n",
       "      <td>0.000000</td>\n",
       "    </tr>\n",
       "    <tr>\n",
       "      <th>1714643</th>\n",
       "      <td>What kind of rat hole do these monsters come from?</td>\n",
       "      <td>0.644737</td>\n",
       "    </tr>\n",
       "    <tr>\n",
       "      <th>92850</th>\n",
       "      <td>Bravo Shannyn and thanks for another insightful column! Yes, the list of past public safety hypocrisy that has evolved into rational protections for the betterment of our country's future, is endless. Except for one yhuuuuuge exception, common sense gun laws.\\n\\nWithout any doubt, I know what would turn our country into the most polite on the planet, over night. If all the guns were in the hands of females and none in the hands of males, except for the military and law enforcement. Except for the San Bernardino shooter's wife, all of these mass murders have been perpetrated by insecure males bent on destroying life.</td>\n",
       "      <td>0.300000</td>\n",
       "    </tr>\n",
       "    <tr>\n",
       "      <th>1547085</th>\n",
       "      <td>Happy that the Trump Resistance has found another critical issue to get all pumped up about (I see a new Kendzior sermon has been posted).\\nThe problem is that many of the schlubs will see these antics as ungrateful and inappropriate slights by spoiled celebrities that target the U.S. in general rather than Trump.</td>\n",
       "      <td>0.000000</td>\n",
       "    </tr>\n",
       "    <tr>\n",
       "      <th>230517</th>\n",
       "      <td>and you are stuck in Soldotna...awesome!!</td>\n",
       "      <td>0.000000</td>\n",
       "    </tr>\n",
       "    <tr>\n",
       "      <th>1606513</th>\n",
       "      <td>I was approximating when I said \"April/May\" to keep the comment concise.  I believe it was actually part way into June that the red hot start ended, when they reached 20 games over .500.  They finished the season 12 games over .500, meaning they were a below-.500 team for the rest of the season after that point (the majority of the season).\\n\\nYou're right that the whole season still counts, of course.  However, when projecting how good a team going forward (like into the playoffs, or into next season), it's prudent to assess the trends.  In 2007, for instance, they were also just an average-ish team, but they went on a hot streak at the right time (entering the playoffs). I think this year they were just an average team (a bit below, actually, given that .500 is average) that had an anomalous hot streak at the start of the season. If this same team were fielded next year, I'd project an over/under of about 78 wins.</td>\n",
       "      <td>0.000000</td>\n",
       "    </tr>\n",
       "    <tr>\n",
       "      <th>1510581</th>\n",
       "      <td>Come up with a new smear besides \"dude weed lmao\". People like you are why the republican party no longer holds individual liberty and personal responsibility as core tenets. \\n\\nIT'S HAPPENING, though. \\n\\nCome Hell or high water, we will MAKE THE GOP REPUBLICAN AGAIN.</td>\n",
       "      <td>0.200000</td>\n",
       "    </tr>\n",
       "    <tr>\n",
       "      <th>973101</th>\n",
       "      <td>“We must be brave enough to admit the ‘war on terror’ is simply not working,” Corbyn, a longtime peace activist who opposed British involvement in the wars in Iraq and Afghanistan, will say, according to his office. “Many experts, including professionals in our intelligence and security services, have pointed to the connections between wars our government has supported or fought in other countries and terrorism here at home.”\\n\\nIt's a no brainer, but it goes against monied, and ideological interests which usually Trump sanity. The public will get stuck with more terrorism.</td>\n",
       "      <td>0.000000</td>\n",
       "    </tr>\n",
       "    <tr>\n",
       "      <th>567115</th>\n",
       "      <td>This is so funny how she plays the victim.  In another statement she states \"my job is to hold our leaders accountable,\" yet when she is being held accountable she's now the victim. Then to claim she's being punished for speaking at a faux Women's March is dishonest and Rep Theilen should be ashamed of herself for saying otherwise. Anyone who saw and heard that faux Women's March knew it was a anti-Trump march. It's almost like she's surprised anyone would care. What did she think would happen?</td>\n",
       "      <td>0.000000</td>\n",
       "    </tr>\n",
       "  </tbody>\n",
       "</table>\n",
       "</div>"
      ],
      "text/plain": [
       "                                                                                                                                                                                                                                                                                                                                                                                                                                                                                                                                                                                                                                                                                                                                                                                                                                                                                                                                                              comment_text  \\\n",
       "1048112  Given you own inability to use punctuation or construct a coherent sentence, Prog, you should be careful responding.                                                                                                                                                                                                                                                                                                                                                                                                                                                                                                                                                                                                                                                                                                                                                                                                                                                \n",
       "1221766  \"Diabetes Canada includes nonnutritive sweeteners in its guidelines, citing Health Canada’s acceptable daily intake values. (The organization has received funding from companies that use nonnutritive sweeteners, though it says no company or representative has any influence in the development of its recommendations.)\"\\n\\nI cannot accept that Diabetes Canada would bite the hand that feeds it, regardless to their claims to the contrary. Are we to not follow the money now?                                                                                                                                                                                                                                                                                                                                                                                                                                                                           \n",
       "1714643  What kind of rat hole do these monsters come from?                                                                                                                                                                                                                                                                                                                                                                                                                                                                                                                                                                                                                                                                                                                                                                                                                                                                                                                  \n",
       "92850    Bravo Shannyn and thanks for another insightful column! Yes, the list of past public safety hypocrisy that has evolved into rational protections for the betterment of our country's future, is endless. Except for one yhuuuuuge exception, common sense gun laws.\\n\\nWithout any doubt, I know what would turn our country into the most polite on the planet, over night. If all the guns were in the hands of females and none in the hands of males, except for the military and law enforcement. Except for the San Bernardino shooter's wife, all of these mass murders have been perpetrated by insecure males bent on destroying life.                                                                                                                                                                                                                                                                                                                     \n",
       "1547085  Happy that the Trump Resistance has found another critical issue to get all pumped up about (I see a new Kendzior sermon has been posted).\\nThe problem is that many of the schlubs will see these antics as ungrateful and inappropriate slights by spoiled celebrities that target the U.S. in general rather than Trump.                                                                                                                                                                                                                                                                                                                                                                                                                                                                                                                                                                                                                                         \n",
       "230517   and you are stuck in Soldotna...awesome!!                                                                                                                                                                                                                                                                                                                                                                                                                                                                                                                                                                                                                                                                                                                                                                                                                                                                                                                           \n",
       "1606513  I was approximating when I said \"April/May\" to keep the comment concise.  I believe it was actually part way into June that the red hot start ended, when they reached 20 games over .500.  They finished the season 12 games over .500, meaning they were a below-.500 team for the rest of the season after that point (the majority of the season).\\n\\nYou're right that the whole season still counts, of course.  However, when projecting how good a team going forward (like into the playoffs, or into next season), it's prudent to assess the trends.  In 2007, for instance, they were also just an average-ish team, but they went on a hot streak at the right time (entering the playoffs). I think this year they were just an average team (a bit below, actually, given that .500 is average) that had an anomalous hot streak at the start of the season. If this same team were fielded next year, I'd project an over/under of about 78 wins.   \n",
       "1510581  Come up with a new smear besides \"dude weed lmao\". People like you are why the republican party no longer holds individual liberty and personal responsibility as core tenets. \\n\\nIT'S HAPPENING, though. \\n\\nCome Hell or high water, we will MAKE THE GOP REPUBLICAN AGAIN.                                                                                                                                                                                                                                                                                                                                                                                                                                                                                                                                                                                                                                                                                      \n",
       "973101   “We must be brave enough to admit the ‘war on terror’ is simply not working,” Corbyn, a longtime peace activist who opposed British involvement in the wars in Iraq and Afghanistan, will say, according to his office. “Many experts, including professionals in our intelligence and security services, have pointed to the connections between wars our government has supported or fought in other countries and terrorism here at home.”\\n\\nIt's a no brainer, but it goes against monied, and ideological interests which usually Trump sanity. The public will get stuck with more terrorism.                                                                                                                                                                                                                                                                                                                                                                \n",
       "567115   This is so funny how she plays the victim.  In another statement she states \"my job is to hold our leaders accountable,\" yet when she is being held accountable she's now the victim. Then to claim she's being punished for speaking at a faux Women's March is dishonest and Rep Theilen should be ashamed of herself for saying otherwise. Anyone who saw and heard that faux Women's March knew it was a anti-Trump march. It's almost like she's surprised anyone would care. What did she think would happen?                                                                                                                                                                                                                                                                                                                                                                                                                                                 \n",
       "\n",
       "           target  \n",
       "1048112  0.000000  \n",
       "1221766  0.000000  \n",
       "1714643  0.644737  \n",
       "92850    0.300000  \n",
       "1547085  0.000000  \n",
       "230517   0.000000  \n",
       "1606513  0.000000  \n",
       "1510581  0.200000  \n",
       "973101   0.000000  \n",
       "567115   0.000000  "
      ]
     },
     "execution_count": 32,
     "metadata": {},
     "output_type": "execute_result"
    }
   ],
   "source": [
    "df[['comment_text', 'target']].sample(10)"
   ]
  },
  {
   "cell_type": "code",
   "execution_count": 7,
   "metadata": {},
   "outputs": [
    {
     "data": {
      "text/html": [
       "<div>\n",
       "<style scoped>\n",
       "    .dataframe tbody tr th:only-of-type {\n",
       "        vertical-align: middle;\n",
       "    }\n",
       "\n",
       "    .dataframe tbody tr th {\n",
       "        vertical-align: top;\n",
       "    }\n",
       "\n",
       "    .dataframe thead th {\n",
       "        text-align: right;\n",
       "    }\n",
       "</style>\n",
       "<table border=\"1\" class=\"dataframe\">\n",
       "  <thead>\n",
       "    <tr style=\"text-align: right;\">\n",
       "      <th></th>\n",
       "      <th>target</th>\n",
       "      <th>severe_toxicity</th>\n",
       "      <th>obscene</th>\n",
       "      <th>identity_attack</th>\n",
       "      <th>insult</th>\n",
       "      <th>threat</th>\n",
       "    </tr>\n",
       "  </thead>\n",
       "  <tbody>\n",
       "    <tr>\n",
       "      <th>854812</th>\n",
       "      <td>0.000000</td>\n",
       "      <td>0.0</td>\n",
       "      <td>0.0</td>\n",
       "      <td>0.000000</td>\n",
       "      <td>0.0</td>\n",
       "      <td>0.000000</td>\n",
       "    </tr>\n",
       "    <tr>\n",
       "      <th>1165428</th>\n",
       "      <td>0.000000</td>\n",
       "      <td>0.0</td>\n",
       "      <td>0.0</td>\n",
       "      <td>0.000000</td>\n",
       "      <td>0.0</td>\n",
       "      <td>0.000000</td>\n",
       "    </tr>\n",
       "    <tr>\n",
       "      <th>1178445</th>\n",
       "      <td>0.100000</td>\n",
       "      <td>0.1</td>\n",
       "      <td>0.0</td>\n",
       "      <td>0.000000</td>\n",
       "      <td>0.0</td>\n",
       "      <td>0.000000</td>\n",
       "    </tr>\n",
       "    <tr>\n",
       "      <th>1647547</th>\n",
       "      <td>0.000000</td>\n",
       "      <td>0.0</td>\n",
       "      <td>0.0</td>\n",
       "      <td>0.000000</td>\n",
       "      <td>0.0</td>\n",
       "      <td>0.000000</td>\n",
       "    </tr>\n",
       "    <tr>\n",
       "      <th>282432</th>\n",
       "      <td>0.000000</td>\n",
       "      <td>0.0</td>\n",
       "      <td>0.0</td>\n",
       "      <td>0.000000</td>\n",
       "      <td>0.0</td>\n",
       "      <td>0.000000</td>\n",
       "    </tr>\n",
       "    <tr>\n",
       "      <th>1346930</th>\n",
       "      <td>0.166667</td>\n",
       "      <td>0.0</td>\n",
       "      <td>0.0</td>\n",
       "      <td>0.166667</td>\n",
       "      <td>0.0</td>\n",
       "      <td>0.166667</td>\n",
       "    </tr>\n",
       "    <tr>\n",
       "      <th>195691</th>\n",
       "      <td>0.000000</td>\n",
       "      <td>0.0</td>\n",
       "      <td>0.0</td>\n",
       "      <td>0.000000</td>\n",
       "      <td>0.0</td>\n",
       "      <td>0.000000</td>\n",
       "    </tr>\n",
       "    <tr>\n",
       "      <th>1316251</th>\n",
       "      <td>0.000000</td>\n",
       "      <td>0.0</td>\n",
       "      <td>0.0</td>\n",
       "      <td>0.000000</td>\n",
       "      <td>0.0</td>\n",
       "      <td>0.000000</td>\n",
       "    </tr>\n",
       "    <tr>\n",
       "      <th>1755413</th>\n",
       "      <td>0.800000</td>\n",
       "      <td>0.0</td>\n",
       "      <td>0.0</td>\n",
       "      <td>0.000000</td>\n",
       "      <td>0.8</td>\n",
       "      <td>0.000000</td>\n",
       "    </tr>\n",
       "    <tr>\n",
       "      <th>1021449</th>\n",
       "      <td>0.000000</td>\n",
       "      <td>0.0</td>\n",
       "      <td>0.0</td>\n",
       "      <td>0.000000</td>\n",
       "      <td>0.0</td>\n",
       "      <td>0.000000</td>\n",
       "    </tr>\n",
       "  </tbody>\n",
       "</table>\n",
       "</div>"
      ],
      "text/plain": [
       "           target  severe_toxicity  obscene  identity_attack  insult    threat\n",
       "854812   0.000000  0.0              0.0      0.000000         0.0     0.000000\n",
       "1165428  0.000000  0.0              0.0      0.000000         0.0     0.000000\n",
       "1178445  0.100000  0.1              0.0      0.000000         0.0     0.000000\n",
       "1647547  0.000000  0.0              0.0      0.000000         0.0     0.000000\n",
       "282432   0.000000  0.0              0.0      0.000000         0.0     0.000000\n",
       "1346930  0.166667  0.0              0.0      0.166667         0.0     0.166667\n",
       "195691   0.000000  0.0              0.0      0.000000         0.0     0.000000\n",
       "1316251  0.000000  0.0              0.0      0.000000         0.0     0.000000\n",
       "1755413  0.800000  0.0              0.0      0.000000         0.8     0.000000\n",
       "1021449  0.000000  0.0              0.0      0.000000         0.0     0.000000"
      ]
     },
     "execution_count": 7,
     "metadata": {},
     "output_type": "execute_result"
    }
   ],
   "source": [
    "AUX_COLUMNS = ['target', 'severe_toxicity', 'obscene', 'identity_attack', 'insult', 'threat']\n",
    "df[AUX_COLUMNS].sample(10)"
   ]
  },
  {
   "cell_type": "code",
   "execution_count": 9,
   "metadata": {},
   "outputs": [
    {
     "name": "stdout",
     "output_type": "stream",
     "text": [
      "106438 8 7648 7633 79887 2793\n"
     ]
    }
   ],
   "source": [
    "print(len(df[df['target']>0.5]), len(df[df['severe_toxicity']>0.5]), len(df[df['obscene']>0.5]),len(df[df['identity_attack']>0.5]),len(df[df['insult']>0.5]), len(df[df['threat']>0.5]))"
   ]
  },
  {
   "cell_type": "code",
   "execution_count": 10,
   "metadata": {},
   "outputs": [
    {
     "data": {
      "text/plain": [
       "1804874"
      ]
     },
     "execution_count": 10,
     "metadata": {},
     "output_type": "execute_result"
    }
   ],
   "source": [
    "len(df)"
   ]
  },
  {
   "cell_type": "code",
   "execution_count": 26,
   "metadata": {},
   "outputs": [
    {
     "data": {
      "text/plain": [
       "37896"
      ]
     },
     "execution_count": 26,
     "metadata": {},
     "output_type": "execute_result"
    }
   ],
   "source": [
    "len(df[df['target']==0.5])"
   ]
  },
  {
   "cell_type": "code",
   "execution_count": 15,
   "metadata": {},
   "outputs": [
    {
     "data": {
      "text/plain": [
       "78125"
      ]
     },
     "execution_count": 15,
     "metadata": {},
     "output_type": "execute_result"
    }
   ],
   "source": [
    "len(df[(df['target']>0.5) & (df['insult']>0.5)])"
   ]
  },
  {
   "cell_type": "code",
   "execution_count": 16,
   "metadata": {},
   "outputs": [
    {
     "data": {
      "text/plain": [
       "7494"
      ]
     },
     "execution_count": 16,
     "metadata": {},
     "output_type": "execute_result"
    }
   ],
   "source": [
    "len(df[(df['target']>0.5) & (df['obscene']>0.5)])"
   ]
  },
  {
   "cell_type": "code",
   "execution_count": 17,
   "metadata": {},
   "outputs": [
    {
     "data": {
      "text/plain": [
       "88410"
      ]
     },
     "execution_count": 17,
     "metadata": {},
     "output_type": "execute_result"
    }
   ],
   "source": [
    "df['text_len'] = df.comment_text.map(lambda x: len(x.split(' ')))\n",
    "len(df[df.text_len > 160])"
   ]
  },
  {
   "cell_type": "code",
   "execution_count": 27,
   "metadata": {},
   "outputs": [
    {
     "data": {
      "text/html": [
       "<div>\n",
       "<style scoped>\n",
       "    .dataframe tbody tr th:only-of-type {\n",
       "        vertical-align: middle;\n",
       "    }\n",
       "\n",
       "    .dataframe tbody tr th {\n",
       "        vertical-align: top;\n",
       "    }\n",
       "\n",
       "    .dataframe thead th {\n",
       "        text-align: right;\n",
       "    }\n",
       "</style>\n",
       "<table border=\"1\" class=\"dataframe\">\n",
       "  <thead>\n",
       "    <tr style=\"text-align: right;\">\n",
       "      <th></th>\n",
       "      <th>id</th>\n",
       "      <th>comment_text</th>\n",
       "    </tr>\n",
       "  </thead>\n",
       "  <tbody>\n",
       "    <tr>\n",
       "      <th>27652</th>\n",
       "      <td>7027652</td>\n",
       "      <td>tryanny doesn't mean what you think it means.</td>\n",
       "    </tr>\n",
       "    <tr>\n",
       "      <th>81418</th>\n",
       "      <td>7081418</td>\n",
       "      <td>Get that you live to troll, Tommy.\\n\\nNot playing your silly games over the Christmas holidays.</td>\n",
       "    </tr>\n",
       "    <tr>\n",
       "      <th>14484</th>\n",
       "      <td>7014484</td>\n",
       "      <td>Except for the Christians in the southern hemisphere....</td>\n",
       "    </tr>\n",
       "    <tr>\n",
       "      <th>7792</th>\n",
       "      <td>7007792</td>\n",
       "      <td>NO'Leary  !\\n\\nJust NO !!</td>\n",
       "    </tr>\n",
       "    <tr>\n",
       "      <th>83539</th>\n",
       "      <td>7083539</td>\n",
       "      <td>Washington Post correction:   (you can't make this stuff up and make it worse)\\n\\n\\nEDITOR'S NOTE: This story has been updated to more precisely describe White House press secretary Sean Spicer's location late Tuesday night in the minutes before he briefed reporters. Spicer huddled with his staff among bushes near television sets on the White House grounds, not \"in the bushes,\" as the story originally stated.\\n\\n\\nhttps://www.washingtonpost.com/news/post-politics/wp/2017/05/10/as-trump-fired-comey-his-staff-scrambled-to-explain-why/?utm_term=.12f7acda3700</td>\n",
       "    </tr>\n",
       "    <tr>\n",
       "      <th>41306</th>\n",
       "      <td>7041306</td>\n",
       "      <td>You my friend dream of the Utopia. We all want to live there, unfortunately it does not exist.</td>\n",
       "    </tr>\n",
       "    <tr>\n",
       "      <th>4440</th>\n",
       "      <td>7004440</td>\n",
       "      <td>Yes...they've gone crazy this year...good on ya!\\n\\nWell.  Wait until NEXT year (*rolling my eyes*)</td>\n",
       "    </tr>\n",
       "    <tr>\n",
       "      <th>45371</th>\n",
       "      <td>7045371</td>\n",
       "      <td>“Today, the Trump administration took up the cause of oppressed white people.”</td>\n",
       "    </tr>\n",
       "    <tr>\n",
       "      <th>50534</th>\n",
       "      <td>7050534</td>\n",
       "      <td>Mr. Clark has inadvertently stated the obvious...... \"Suddenly, he has to start thinking \"....\\nWas J. Trudeau \"thinking\" when he ordered the removal of our F-18's  ?  Or was he \"playing to the crowd \". \\nRussia has no intention of taking on \"the West\",  Putin may be a cruel dictator, but he's not stupid. Russia was made aware of the air-strike  at least 8 hours before.  As opposed to Canada, one hour before.   (yes, Putin was elected)\\nOnce again Trudeau has been made irrelevant, and by extension,  Canada.</td>\n",
       "    </tr>\n",
       "    <tr>\n",
       "      <th>31558</th>\n",
       "      <td>7031558</td>\n",
       "      <td>Ms Smith:  Our current health care system may be the most expensive in the industrialized world; but, at least it's also the least effective.  Gary crum</td>\n",
       "    </tr>\n",
       "  </tbody>\n",
       "</table>\n",
       "</div>"
      ],
      "text/plain": [
       "            id  \\\n",
       "27652  7027652   \n",
       "81418  7081418   \n",
       "14484  7014484   \n",
       "7792   7007792   \n",
       "83539  7083539   \n",
       "41306  7041306   \n",
       "4440   7004440   \n",
       "45371  7045371   \n",
       "50534  7050534   \n",
       "31558  7031558   \n",
       "\n",
       "                                                                                                                                                                                                                                                                                                                                                                                                                                                                                                                                                                            comment_text  \n",
       "27652  tryanny doesn't mean what you think it means.                                                                                                                                                                                                                                                                                                                                                                                                                                                                                                                                      \n",
       "81418  Get that you live to troll, Tommy.\\n\\nNot playing your silly games over the Christmas holidays.                                                                                                                                                                                                                                                                                                                                                                                                                                                                                    \n",
       "14484  Except for the Christians in the southern hemisphere....                                                                                                                                                                                                                                                                                                                                                                                                                                                                                                                           \n",
       "7792   NO'Leary  !\\n\\nJust NO !!                                                                                                                                                                                                                                                                                                                                                                                                                                                                                                                                                          \n",
       "83539  Washington Post correction:   (you can't make this stuff up and make it worse)\\n\\n\\nEDITOR'S NOTE: This story has been updated to more precisely describe White House press secretary Sean Spicer's location late Tuesday night in the minutes before he briefed reporters. Spicer huddled with his staff among bushes near television sets on the White House grounds, not \"in the bushes,\" as the story originally stated.\\n\\n\\nhttps://www.washingtonpost.com/news/post-politics/wp/2017/05/10/as-trump-fired-comey-his-staff-scrambled-to-explain-why/?utm_term=.12f7acda3700  \n",
       "41306  You my friend dream of the Utopia. We all want to live there, unfortunately it does not exist.                                                                                                                                                                                                                                                                                                                                                                                                                                                                                     \n",
       "4440   Yes...they've gone crazy this year...good on ya!\\n\\nWell.  Wait until NEXT year (*rolling my eyes*)                                                                                                                                                                                                                                                                                                                                                                                                                                                                                \n",
       "45371  “Today, the Trump administration took up the cause of oppressed white people.”                                                                                                                                                                                                                                                                                                                                                                                                                                                                                                     \n",
       "50534  Mr. Clark has inadvertently stated the obvious...... \"Suddenly, he has to start thinking \"....\\nWas J. Trudeau \"thinking\" when he ordered the removal of our F-18's  ?  Or was he \"playing to the crowd \". \\nRussia has no intention of taking on \"the West\",  Putin may be a cruel dictator, but he's not stupid. Russia was made aware of the air-strike  at least 8 hours before.  As opposed to Canada, one hour before.   (yes, Putin was elected)\\nOnce again Trudeau has been made irrelevant, and by extension,  Canada.                                                   \n",
       "31558  Ms Smith:  Our current health care system may be the most expensive in the industrialized world; but, at least it's also the least effective.  Gary crum                                                                                                                                                                                                                                                                                                                                                                                                                           "
      ]
     },
     "execution_count": 27,
     "metadata": {},
     "output_type": "execute_result"
    }
   ],
   "source": [
    "df_text = pd.read_csv(os.path.join(settings.DATA_DIR, 'test.csv'))\n",
    "df_text.sample(10)"
   ]
  },
  {
   "cell_type": "code",
   "execution_count": 24,
   "metadata": {},
   "outputs": [
    {
     "data": {
      "text/plain": [
       "62"
      ]
     },
     "execution_count": 24,
     "metadata": {},
     "output_type": "execute_result"
    }
   ],
   "source": [
    "df_text['text_len'] = df_text.comment_text.map(lambda x: len(x.split(' ')))\n",
    "len(df_text[df_text.text_len > 200])"
   ]
  },
  {
   "cell_type": "code",
   "execution_count": 38,
   "metadata": {},
   "outputs": [
    {
     "name": "stderr",
     "output_type": "stream",
     "text": [
      "INFO:pytorch_pretrained_bert.tokenization:loading vocabulary file https://s3.amazonaws.com/models.huggingface.co/bert/bert-base-uncased-vocab.txt from cache at /home/core/.pytorch_pretrained_bert/26bc1ad6c0ac742e9b52263248f6d0f00068293b33709fae12320c0e35ccfbbb.542ce4285a40d23a559526243235df47c5f75c197f04f37d1a0c124c32c9a084\n"
     ]
    },
    {
     "data": {
      "text/plain": [
       "['[CLS]',\n",
       " 'it',\n",
       " \"'\",\n",
       " 's',\n",
       " 'http',\n",
       " ':',\n",
       " '/',\n",
       " '/',\n",
       " 'www',\n",
       " '.',\n",
       " 'com',\n",
       " 'who',\n",
       " 'was',\n",
       " 'jim',\n",
       " 'henson',\n",
       " '?',\n",
       " '[SEP]',\n",
       " 'jim',\n",
       " 'henson',\n",
       " 'was',\n",
       " 'a',\n",
       " 'puppet',\n",
       " '##eer',\n",
       " '[SEP]']"
      ]
     },
     "execution_count": 38,
     "metadata": {},
     "output_type": "execute_result"
    }
   ],
   "source": [
    "import torch\n",
    "from pytorch_pretrained_bert import BertTokenizer, BertModel, BertForMaskedLM\n",
    "\n",
    "# OPTIONAL: if you want to have more information on what's happening, activate the logger as follows\n",
    "import logging\n",
    "logging.basicConfig(level=logging.INFO)\n",
    "\n",
    "# Load pre-trained model tokenizer (vocabulary)\n",
    "tokenizer = BertTokenizer.from_pretrained('bert-base-uncased')\n",
    "\n",
    "# Tokenized input\n",
    "text = \"[CLS] it's http://www.com Who was Jim Henson ? [SEP] Jim Henson was a puppeteer [SEP]\"\n",
    "tokenized_text = tokenizer.tokenize(text)\n",
    "tokenized_text"
   ]
  },
  {
   "cell_type": "code",
   "execution_count": null,
   "metadata": {},
   "outputs": [],
   "source": []
  }
 ],
 "metadata": {
  "kernelspec": {
   "display_name": "Python 3",
   "language": "python",
   "name": "python3"
  },
  "language_info": {
   "codemirror_mode": {
    "name": "ipython",
    "version": 3
   },
   "file_extension": ".py",
   "mimetype": "text/x-python",
   "name": "python",
   "nbconvert_exporter": "python",
   "pygments_lexer": "ipython3",
   "version": "3.6.7"
  }
 },
 "nbformat": 4,
 "nbformat_minor": 2
}
